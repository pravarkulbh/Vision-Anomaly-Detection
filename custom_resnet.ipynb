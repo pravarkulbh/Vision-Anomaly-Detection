{
 "cells": [
  {
   "cell_type": "code",
   "execution_count": 2,
   "metadata": {
    "id": "e8h-oLuxK1Kh"
   },
   "outputs": [],
   "source": [
    "import glob\n",
    "from itertools import chain\n",
    "import os\n",
    "import random\n",
    "import zipfile\n",
    "from tqdm.notebook import tqdm\n",
    "\n",
    "import matplotlib.pyplot as plt\n",
    "import numpy as np\n",
    "import pandas as pd\n",
    "from PIL import Image\n",
    "from sklearn.model_selection import train_test_split\n",
    "import cv2\n",
    "\n",
    "import torch\n",
    "import torch.nn as nn\n",
    "import torch.nn.functional as F\n",
    "import torch.optim as optim\n",
    "from torch.optim.lr_scheduler import StepLR, CosineAnnealingLR, ReduceLROnPlateau\n",
    "from torch.utils.data import DataLoader, Dataset\n",
    "from torchvision import datasets, transforms, models\n",
    "\n",
    "from torchvision.datasets import MNIST\n",
    "from torchvision import transforms\n",
    "import torchvision\n",
    "import torchvision.transforms as T\n",
    "from torch.utils.tensorboard import SummaryWriter\n",
    "writer = SummaryWriter()"
   ]
  },
  {
   "cell_type": "code",
   "execution_count": 3,
   "metadata": {
    "id": "g7k9oDM_tEWg"
   },
   "outputs": [],
   "source": [
    "# folder = \"./train/good/\"\n",
    "\n",
    "# rgb_values = np.concatenate([Image.open(folder + img).getdata() for img in os.listdir(folder)], axis=0) / 255.\n",
    "\n",
    "# mu_rgb = np.mean(rgb_values, axis=0)  \n",
    "# std_rgb = np.std(rgb_values, axis=0)  "
   ]
  },
  {
   "cell_type": "code",
   "execution_count": 4,
   "metadata": {
    "id": "O1nHo9oEZ3Mr"
   },
   "outputs": [],
   "source": [
    "mean, std = 0.4972, 0.2502\n",
    "\n",
    "train_dataset = torchvision.datasets.ImageFolder(root=\"./train/\", transform=transforms.Compose([\n",
    "                                  transforms.Resize((1024, 1024)),\n",
    "                                  \n",
    "                                  transforms.ToTensor(),\n",
    "                                  transforms.Normalize((mean,), (std,))\n",
    "                              ]))\n",
    "\n",
    "test_dataset = torchvision.datasets.ImageFolder(root=\"./test/\", transform=transforms.Compose([\n",
    "                                  transforms.Resize((1024, 1024)),\n",
    "                                  \n",
    "                                  transforms.ToTensor(),\n",
    "                                  transforms.Normalize((mean,), (std,))\n",
    "                              ]))"
   ]
  },
  {
   "cell_type": "code",
   "execution_count": 5,
   "metadata": {
    "colab": {
     "base_uri": "https://localhost:8080/"
    },
    "id": "gyUzFV4LhRnT",
    "outputId": "1e81428c-1195-49fc-f10a-33e6561d9776"
   },
   "outputs": [
    {
     "data": {
      "text/plain": [
       "Dataset ImageFolder\n",
       "    Number of datapoints: 417\n",
       "    Root location: ./train/\n",
       "    StandardTransform\n",
       "Transform: Compose(\n",
       "               Resize(size=(1024, 1024), interpolation=bilinear, max_size=None, antialias=None)\n",
       "               ToTensor()\n",
       "               Normalize(mean=(0.4972,), std=(0.2502,))\n",
       "           )"
      ]
     },
     "execution_count": 5,
     "metadata": {},
     "output_type": "execute_result"
    }
   ],
   "source": [
    "train_dataset"
   ]
  },
  {
   "cell_type": "code",
   "execution_count": 6,
   "metadata": {
    "id": "3hTXcSSfvDev"
   },
   "outputs": [],
   "source": [
    "train_labels = np.array(train_dataset.targets)"
   ]
  },
  {
   "cell_type": "code",
   "execution_count": 7,
   "metadata": {
    "id": "dsK55mD0SSts"
   },
   "outputs": [],
   "source": [
    "test_labels = np.array(test_dataset.targets)"
   ]
  },
  {
   "cell_type": "code",
   "execution_count": 8,
   "metadata": {
    "id": "UinkitPszMIH"
   },
   "outputs": [],
   "source": [
    "test_data = []\n",
    "\n",
    "for i in test_dataset:\n",
    "    test_data.append(i[0])\n"
   ]
  },
  {
   "cell_type": "code",
   "execution_count": 9,
   "metadata": {},
   "outputs": [
    {
     "data": {
      "text/plain": [
       "array([0, 0, 0, 0, 0, 0, 0, 0, 0, 0, 0, 0, 0, 0, 0, 0, 0, 0, 0, 0, 0, 0,\n",
       "       0, 0, 0, 0, 0, 0, 0, 0, 0, 0, 0, 0, 0, 0, 0, 0, 0, 0, 0, 0, 0, 0,\n",
       "       0, 0, 0, 0, 0, 0, 1, 1, 1, 1, 1, 1, 1, 1, 1, 1, 1, 1, 1, 1, 1, 1,\n",
       "       1, 1, 1, 1, 1, 1, 1, 1, 1, 1, 1, 1, 1, 1, 1, 1, 1, 1, 1, 1, 1, 1,\n",
       "       1, 1, 1, 1, 1, 1, 1, 1, 1, 1, 1, 1])"
      ]
     },
     "execution_count": 9,
     "metadata": {},
     "output_type": "execute_result"
    }
   ],
   "source": [
    "test_labels"
   ]
  },
  {
   "cell_type": "code",
   "execution_count": 10,
   "metadata": {
    "id": "JZMW6WFDjXVI"
   },
   "outputs": [],
   "source": [
    "# import tensorflow as tf\n",
    "# A = np.zeros(shape=(175,1,1024,1024))\n",
    "\n",
    "# for i in range(175):\n",
    "#   A[i,:,:,:] = np.array(train_dataset[i][0])\n",
    "\n",
    "# from tensorflow.python.framework.ops import convert_to_tensor\n",
    "# tf.convert_to_tensor(A)"
   ]
  },
  {
   "cell_type": "code",
   "execution_count": 11,
   "metadata": {
    "id": "cuxL_8H8XSdf"
   },
   "outputs": [],
   "source": [
    "train_data = []"
   ]
  },
  {
   "cell_type": "code",
   "execution_count": 12,
   "metadata": {
    "id": "Daq_ddJ81Cdl"
   },
   "outputs": [],
   "source": [
    "train_data1 = []"
   ]
  },
  {
   "cell_type": "code",
   "execution_count": 13,
   "metadata": {
    "id": "k-fGxAex7MUA"
   },
   "outputs": [],
   "source": [
    "for i in range(0, 417):\n",
    "    train_data.append(train_dataset[i][0])\n"
   ]
  },
  {
   "cell_type": "code",
   "execution_count": 14,
   "metadata": {
    "id": "vyEuXVGh15pe"
   },
   "outputs": [],
   "source": [
    "train_main = train_data "
   ]
  },
  {
   "cell_type": "code",
   "execution_count": 15,
   "metadata": {
    "colab": {
     "base_uri": "https://localhost:8080/"
    },
    "id": "nC7J5EIvVILa",
    "outputId": "d29a5114-6445-4095-d3be-e7c7b38f0539"
   },
   "outputs": [
    {
     "data": {
      "text/plain": [
       "417"
      ]
     },
     "execution_count": 15,
     "metadata": {},
     "output_type": "execute_result"
    }
   ],
   "source": [
    "len(train_main)"
   ]
  },
  {
   "cell_type": "code",
   "execution_count": 56,
   "metadata": {
    "id": "rRMoJsEVZgCt"
   },
   "outputs": [],
   "source": [
    "import torch\n",
    "from torch.optim import lr_scheduler\n",
    "import torch.optim as optim\n",
    "from torch.autograd import Variable\n",
    "\n",
    "import numpy as np\n",
    "cuda = torch.cuda.is_available()\n",
    "\n",
    "%matplotlib inline\n",
    "import matplotlib\n",
    "import matplotlib.pyplot as plt\n",
    "\n",
    "mnist_classes = ['good', 'bad']\n",
    "colors = ['#1f77b4', '#ff7f0e']\n",
    "\n",
    "def plot_embeddings(embeddings, targets, xlim=None, ylim=None):\n",
    "    plt.figure(figsize=(10,10))\n",
    "    for i in range(len(colors)):\n",
    "        inds = np.where(targets==i)[0]\n",
    "        plt.scatter(embeddings[inds,0], embeddings[inds,1], alpha=0.5, color=colors[i])\n",
    "    if xlim:\n",
    "        plt.xlim(xlim[0], xlim[1])\n",
    "    if ylim:\n",
    "        plt.ylim(ylim[0], ylim[1])\n",
    "    plt.legend(mnist_classes)\n",
    "\n",
    "def extract_embeddings(dataloader, model):\n",
    "\n",
    "    with torch.no_grad():\n",
    "        model.eval()\n",
    "        embeddings = np.zeros((len(dataloader.dataset), 2))\n",
    "        labels = np.zeros(len(dataloader.dataset))\n",
    "        k = 0\n",
    "        for images, target in dataloader:\n",
    "            if cuda:\n",
    "                images = images.cuda()\n",
    "            embeddings[k:k+len(images)] = model.get_embedding(images).data.cpu().numpy()\n",
    "            labels[k:k+len(images)] = target.numpy()\n",
    "            k += len(images)\n",
    "    return embeddings, labels"
   ]
  },
  {
   "cell_type": "code",
   "execution_count": 17,
   "metadata": {
    "id": "_NruSqylUa6T"
   },
   "outputs": [],
   "source": [
    "class EmbeddingResNet(nn.Module):\n",
    "    def __init__(self):\n",
    "        super(EmbeddingResNet, self).__init__()\n",
    "        self.model_ft = models.resnet18(pretrained=True)\n",
    "\n",
    "        self.convnet = torch.nn.Sequential(*list(self.model_ft.children())[:-1])\n",
    "\n",
    "        self.fc = nn.Sequential(nn.Linear(512, 256),\n",
    "                                nn.PReLU(),\n",
    "                                nn.Linear(256, 256),\n",
    "                                nn.PReLU(),\n",
    "                                nn.Linear(256, 2)\n",
    "                                )\n",
    "\n",
    "    def forward(self, x):\n",
    "        output = self.convnet(x)\n",
    "        output = output.view(output.size()[0], -1)\n",
    "        output = self.fc(output)\n",
    "        return output\n",
    "\n",
    "    def get_embedding(self, x):\n",
    "        return self.forward(x)\n",
    "\n",
    "class TripletNet(nn.Module):\n",
    "    def __init__(self, EmbeddingResNet):\n",
    "        super(TripletNet, self).__init__()\n",
    "        self.EmbeddingResNet = EmbeddingResNet\n",
    "\n",
    "    def forward(self, x1, x2, x3):\n",
    "        output1 = self.EmbeddingResNet(x1)\n",
    "        output2 = self.EmbeddingResNet(x2)\n",
    "        output3 = self.EmbeddingResNet(x3)\n",
    "        return output1, output2, output3\n",
    "\n",
    "    def get_embedding(self, x):\n",
    "        return self.EmbeddingResNet(x)\n",
    "    "
   ]
  },
  {
   "cell_type": "code",
   "execution_count": 19,
   "metadata": {
    "id": "yIFQ-ry2UbSP"
   },
   "outputs": [],
   "source": [
    "class TripletLoss(nn.Module):\n",
    "    def __init__(self, margin=1.0):\n",
    "        super(TripletLoss, self).__init__()\n",
    "        self.margin = margin\n",
    "        \n",
    "    def calc_euclidean(self, x1, x2):\n",
    "        return (x1 - x2).pow(2).sum(1)\n",
    "    \n",
    "    # Distances in embedding space is calculated in euclidean\n",
    "    def forward(self, anchor, positive, negative, size_average = True):\n",
    "        distance_positive = self.calc_euclidean(anchor, positive)\n",
    "        distance_negative = self.calc_euclidean(anchor, negative)\n",
    "        losses = torch.relu(distance_positive - distance_negative + self.margin)\n",
    "        return losses.mean() if size_average else losses.sum()"
   ]
  },
  {
   "cell_type": "code",
   "execution_count": 20,
   "metadata": {
    "id": "UCY5IuCQfxxZ"
   },
   "outputs": [],
   "source": [
    "def fit(train_loader, val_loader, model, loss_fn, optimizer, scheduler, n_epochs, cuda, log_interval, metrics=[],\n",
    "        start_epoch=0):\n",
    "    \"\"\"\n",
    "    Loaders, model, loss function and metrics should work together for a given task,\n",
    "    i.e. The model should be able to process data output of loaders,\n",
    "    loss function should process target output of loaders and outputs from the model\n",
    "\n",
    "    Examples: Classification: batch loader, classification model, NLL loss, accuracy metric\n",
    "    Siamese network: Siamese loader, siamese model, contrastive loss\n",
    "    Online triplet learning: batch loader, embedding model, online triplet loss\n",
    "    \"\"\"\n",
    "    for epoch in range(0, start_epoch):\n",
    "        scheduler.step()\n",
    "\n",
    "    for epoch in range(start_epoch, n_epochs):\n",
    "        scheduler.step()\n",
    "\n",
    "        # Train stage\n",
    "        train_loss, metrics = train_epoch(train_loader, model, loss_fn, optimizer, cuda, log_interval, metrics)\n",
    "\n",
    "        message = 'Epoch: {}/{}. Train set: Average loss: {:.4f}'.format(epoch + 1, n_epochs, train_loss)\n",
    "\n",
    "        writer.add_scalar(\"Train_Loss\", train_loss, epoch + 1)\n",
    "\n",
    "        for metric in metrics:\n",
    "            message += '\\t{}: {}'.format(metric.name(), metric.value())\n",
    "\n",
    "        val_loss, metrics = test_epoch(val_loader, model, loss_fn, cuda, metrics)\n",
    "        val_loss /= len(val_loader)\n",
    "\n",
    "        message += '\\nEpoch: {}/{}. Validation set: Average loss: {:.4f}'.format(epoch + 1, n_epochs,\n",
    "                                                                                 val_loss)\n",
    "        writer.add_scalar(\"Val_Loss\", val_loss, epoch + 1)\n",
    "        for metric in metrics:\n",
    "            message += '\\t{}: {}'.format(metric.name(), metric.value())\n",
    "\n",
    "        print(message)\n",
    "        torch.save(model.state_dict(), \"./model/mod_\" + str(epoch))\n",
    "\n",
    "def train_epoch(train_loader, model, loss_fn, optimizer, cuda, log_interval, metrics):\n",
    "    for metric in metrics:\n",
    "        metric.reset()\n",
    "\n",
    "    model.train()\n",
    "    losses = []\n",
    "    total_loss = 0\n",
    "\n",
    "    for batch_idx, (data, target) in enumerate(train_loader):\n",
    "        target = target if len(target) > 0 else None\n",
    "        if not type(data) in (tuple, list):\n",
    "            data = (data,)\n",
    "        if cuda:\n",
    "            data = tuple(d.cuda() for d in data)\n",
    "            if target is not None:\n",
    "                target = target.cuda()\n",
    "\n",
    "\n",
    "        optimizer.zero_grad()\n",
    "        outputs = model(*data)\n",
    "\n",
    "        if type(outputs) not in (tuple, list):\n",
    "            outputs = (outputs,)\n",
    "\n",
    "        loss_inputs = outputs\n",
    "        if target is not None:\n",
    "            target = (target,)\n",
    "            loss_inputs += target\n",
    "\n",
    "        loss_outputs = loss_fn(*loss_inputs)\n",
    "        loss = loss_outputs[0] if type(loss_outputs) in (tuple, list) else loss_outputs\n",
    "        losses.append(loss.item())\n",
    "        total_loss += loss.item()\n",
    "        loss.backward()\n",
    "        optimizer.step()\n",
    "\n",
    "        for metric in metrics:\n",
    "            metric(outputs, target, loss_outputs)\n",
    "\n",
    "        if batch_idx % log_interval == 0:\n",
    "            message = 'Train: [{}/{} ({:.0f}%)]\\tLoss: {:.6f}'.format(\n",
    "                batch_idx * len(data[0]), len(train_loader.dataset),\n",
    "                100. * batch_idx / len(train_loader), np.mean(losses))\n",
    "            for metric in metrics:\n",
    "                message += '\\t{}: {}'.format(metric.name(), metric.value())\n",
    "\n",
    "            print(message)\n",
    "            losses = []\n",
    "    \n",
    "    total_loss /= (batch_idx + 1)\n",
    "    return total_loss, metrics\n",
    "\n",
    "\n",
    "def test_epoch(val_loader, model, loss_fn, cuda, metrics):\n",
    "    with torch.no_grad():\n",
    "        for metric in metrics:\n",
    "            metric.reset()\n",
    "        model.eval()\n",
    "        val_loss = 0\n",
    "        for batch_idx, (data, target) in enumerate(val_loader):\n",
    "            target = target if len(target) > 0 else None\n",
    "            if not type(data) in (tuple, list):\n",
    "                data = (data,)\n",
    "            if cuda:\n",
    "                data = tuple(d.cuda() for d in data)\n",
    "                if target is not None:\n",
    "                    target = target.cuda()\n",
    "\n",
    "            outputs = model(*data)\n",
    "\n",
    "            if type(outputs) not in (tuple, list):\n",
    "                outputs = (outputs,)\n",
    "            loss_inputs = outputs\n",
    "            if target is not None:\n",
    "                target = (target,)\n",
    "                loss_inputs += target\n",
    "\n",
    "            loss_outputs = loss_fn(*loss_inputs)\n",
    "            loss = loss_outputs[0] if type(loss_outputs) in (tuple, list) else loss_outputs\n",
    "            val_loss += loss.item()\n",
    "\n",
    "            for metric in metrics:\n",
    "                metric(outputs, target, loss_outputs)\n",
    "\n",
    "    return val_loss, metrics"
   ]
  },
  {
   "cell_type": "code",
   "execution_count": 22,
   "metadata": {
    "id": "G72kHqzQYCG0"
   },
   "outputs": [],
   "source": [
    "class TripletCustom(Dataset):\n",
    "    \"\"\"\n",
    "    Train: For each sample (anchor) randomly chooses a positive and negative samples\n",
    "    Test: Creates fixed triplets for testing\n",
    "    \"\"\"\n",
    "\n",
    "    def __init__(self, custom_data, train_labels, test_labels, train_data, test_data, train = False):\n",
    "        self.custom = custom_data\n",
    "        self.train = train\n",
    "        self.transform = self.custom.transform\n",
    "        self.tfm = T.ToPILImage()\n",
    "\n",
    "        if self.train:\n",
    "            self.train_labels = train_labels\n",
    "            self.train_data = train_data\n",
    "            self.labels_set = set(self.train_labels)\n",
    "            self.label_to_indices = {label: np.where(self.train_labels == label)[0]\n",
    "                                     for label in self.labels_set}\n",
    "\n",
    "        else:\n",
    "            self.test_labels = test_labels\n",
    "            self.test_data = test_data\n",
    "            # generate fixed triplets for testing\n",
    "            self.labels_set = set(self.test_labels)\n",
    "            self.label_to_indices = {label: np.where(self.test_labels == label)[0]\n",
    "                                     for label in self.labels_set}\n",
    "\n",
    "            random_state = np.random.RandomState(29)\n",
    "\n",
    "            triplets = [[i,\n",
    "                         random_state.choice(self.label_to_indices[self.test_labels[i].item()]),\n",
    "                         random_state.choice(self.label_to_indices[\n",
    "                                                 np.random.choice(\n",
    "                                                     list(self.labels_set - set([self.test_labels[i].item()]))\n",
    "                                                 )\n",
    "                                             ])\n",
    "                         ]\n",
    "                        for i in range(len(self.test_data))]\n",
    "            self.test_triplets = triplets\n",
    "\n",
    "    def __getitem__(self, index):\n",
    "        if self.train:\n",
    "            img1, label1 = self.train_data[index], self.train_labels[index].item()\n",
    "            positive_index = index\n",
    "            while positive_index == index:\n",
    "                positive_index = np.random.choice(self.label_to_indices[label1])\n",
    "            negative_label = np.random.choice(list(self.labels_set - set([label1])))\n",
    "            negative_index = np.random.choice(self.label_to_indices[negative_label])\n",
    "            img2 = self.train_data[positive_index]\n",
    "            img3 = self.train_data[negative_index]\n",
    "        else:\n",
    "            img1 = self.test_data[self.test_triplets[index][0]]\n",
    "            img2 = self.test_data[self.test_triplets[index][1]]\n",
    "            img3 = self.test_data[self.test_triplets[index][2]]\n",
    "\n",
    "        img1 = self.tfm(img1)\n",
    "        img2 = self.tfm(img2)\n",
    "        img3 = self.tfm(img3)\n",
    "        if self.transform is not None:\n",
    "            img1 = self.transform(img1)\n",
    "            img2 = self.transform(img2)\n",
    "            img3 = self.transform(img3)\n",
    "        return (img1, img2, img3), []\n",
    "\n",
    "    def __len__(self):\n",
    "        return len(self.custom)"
   ]
  },
  {
   "cell_type": "code",
   "execution_count": 23,
   "metadata": {
    "id": "DVRfGYNSUdVG"
   },
   "outputs": [],
   "source": [
    "triplet_train_dataset = TripletCustom(train_dataset, train_labels, test_labels, train_main, test_data, train = True) # Returns triplets of images\n",
    "triplet_test_dataset = TripletCustom(test_dataset, train_labels, test_labels, train_main, test_data, train = False)"
   ]
  },
  {
   "cell_type": "code",
   "execution_count": 24,
   "metadata": {
    "id": "rx6W5lMnUe0T"
   },
   "outputs": [],
   "source": [
    "batch_size = 4\n",
    "kwargs = {'num_workers': 1, 'pin_memory': True} if cuda else {}\n",
    "triplet_train_loader = torch.utils.data.DataLoader(triplet_train_dataset, batch_size=batch_size, shuffle=True, **kwargs)\n",
    "triplet_test_loader = torch.utils.data.DataLoader(triplet_test_dataset, batch_size=batch_size, shuffle=False, **kwargs)"
   ]
  },
  {
   "cell_type": "code",
   "execution_count": 25,
   "metadata": {
    "colab": {
     "base_uri": "https://localhost:8080/",
     "height": 156,
     "referenced_widgets": [
      "e3fc45ff3f084c1c8860e8a811621b35",
      "2280d5e7a5dd475e851af169f5a3bd22",
      "6c62cafe57514ed3a18d4d6652bac243",
      "a1627dbbb5574de79be7684b3ce82fe2",
      "d0320a61573e41ecb18f6293940995c9",
      "eaecb8c19f954b17bddb9ba224285694",
      "fc4ae7e557ba4d8d95c6e1a0f155e7fc",
      "ba6ac0c8625845a3ae33ffa847f8b92b",
      "4eb0f392ecbc43a99f73b01c53f5a4f8",
      "6db1bfc310d347a989143349eaccd8db",
      "318ddb04114f47d49e7881dda69afb09"
     ]
    },
    "id": "DICmF1GWhDc9",
    "outputId": "bab3c159-1fa1-4b10-9cde-4201a8a0fd36"
   },
   "outputs": [
    {
     "name": "stderr",
     "output_type": "stream",
     "text": [
      "/home/bijon/envs/mmenv/lib/python3.10/site-packages/torchvision/models/_utils.py:208: UserWarning: The parameter 'pretrained' is deprecated since 0.13 and may be removed in the future, please use 'weights' instead.\n",
      "  warnings.warn(\n",
      "/home/bijon/envs/mmenv/lib/python3.10/site-packages/torchvision/models/_utils.py:223: UserWarning: Arguments other than a weight enum or `None` for 'weights' are deprecated since 0.13 and may be removed in the future. The current behavior is equivalent to passing `weights=ResNet18_Weights.IMAGENET1K_V1`. You can also use `weights=ResNet18_Weights.DEFAULT` to get the most up-to-date weights.\n",
      "  warnings.warn(msg)\n"
     ]
    }
   ],
   "source": [
    "margin = 1.\n",
    "embedding_net = EmbeddingResNet()\n",
    "model = TripletNet(embedding_net)\n",
    "if cuda:\n",
    "    model.cuda()\n",
    "loss_fn = TripletLoss(margin)\n",
    "lr = 1e-3\n",
    "optimizer = optim.Adam(model.parameters(), lr=lr)\n",
    "scheduler = lr_scheduler.StepLR(optimizer, 8, gamma=0.1, last_epoch=-1)\n",
    "n_epochs = 20\n",
    "log_interval = 100"
   ]
  },
  {
   "cell_type": "code",
   "execution_count": 36,
   "metadata": {
    "id": "lie7gkf1jsLA"
   },
   "outputs": [
    {
     "name": "stdout",
     "output_type": "stream",
     "text": [
      "Train: [0/417 (0%)]\tLoss: 1.002684\n",
      "Train: [400/417 (95%)]\tLoss: 0.625588\n",
      "Epoch: 1/20. Train set: Average loss: 0.6393\n",
      "Epoch: 1/20. Validation set: Average loss: 17.9084\n",
      "Train: [0/417 (0%)]\tLoss: 0.564069\n",
      "Train: [400/417 (95%)]\tLoss: 0.329612\n",
      "Epoch: 2/20. Train set: Average loss: 0.3423\n",
      "Epoch: 2/20. Validation set: Average loss: 0.8183\n",
      "Train: [0/417 (0%)]\tLoss: 0.397056\n",
      "Train: [400/417 (95%)]\tLoss: 0.359262\n",
      "Epoch: 3/20. Train set: Average loss: 0.3620\n",
      "Epoch: 3/20. Validation set: Average loss: 2.5553\n",
      "Train: [0/417 (0%)]\tLoss: 0.430414\n",
      "Train: [400/417 (95%)]\tLoss: 0.619378\n",
      "Epoch: 4/20. Train set: Average loss: 0.6206\n",
      "Epoch: 4/20. Validation set: Average loss: 0.8253\n",
      "Train: [0/417 (0%)]\tLoss: 0.736107\n",
      "Train: [400/417 (95%)]\tLoss: 0.409049\n",
      "Epoch: 5/20. Train set: Average loss: 0.4216\n",
      "Epoch: 5/20. Validation set: Average loss: 1.4255\n",
      "Train: [0/417 (0%)]\tLoss: 0.324818\n",
      "Train: [400/417 (95%)]\tLoss: 0.253823\n",
      "Epoch: 6/20. Train set: Average loss: 0.2547\n",
      "Epoch: 6/20. Validation set: Average loss: 0.0061\n",
      "Train: [0/417 (0%)]\tLoss: 0.042678\n",
      "Train: [400/417 (95%)]\tLoss: 0.210417\n",
      "Epoch: 7/20. Train set: Average loss: 0.2180\n",
      "Epoch: 7/20. Validation set: Average loss: 0.9086\n",
      "Train: [0/417 (0%)]\tLoss: 0.000000\n",
      "Train: [400/417 (95%)]\tLoss: 0.221154\n",
      "Epoch: 8/20. Train set: Average loss: 0.2200\n",
      "Epoch: 8/20. Validation set: Average loss: 1.1715\n",
      "Train: [0/417 (0%)]\tLoss: 0.000000\n",
      "Train: [400/417 (95%)]\tLoss: 0.200889\n",
      "Epoch: 9/20. Train set: Average loss: 0.2022\n",
      "Epoch: 9/20. Validation set: Average loss: 0.3303\n",
      "Train: [0/417 (0%)]\tLoss: 0.000000\n",
      "Train: [400/417 (95%)]\tLoss: 0.161889\n",
      "Epoch: 10/20. Train set: Average loss: 0.1636\n",
      "Epoch: 10/20. Validation set: Average loss: 0.4793\n",
      "Train: [0/417 (0%)]\tLoss: 0.000000\n",
      "Train: [400/417 (95%)]\tLoss: 0.243050\n",
      "Epoch: 11/20. Train set: Average loss: 0.2487\n",
      "Epoch: 11/20. Validation set: Average loss: 0.0108\n",
      "Train: [0/417 (0%)]\tLoss: 0.000000\n",
      "Train: [400/417 (95%)]\tLoss: 0.164353\n",
      "Epoch: 12/20. Train set: Average loss: 0.1831\n",
      "Epoch: 12/20. Validation set: Average loss: 0.0327\n",
      "Train: [0/417 (0%)]\tLoss: 0.000000\n",
      "Train: [400/417 (95%)]\tLoss: 0.132034\n",
      "Epoch: 13/20. Train set: Average loss: 0.1353\n",
      "Epoch: 13/20. Validation set: Average loss: 0.0187\n",
      "Train: [0/417 (0%)]\tLoss: 0.000000\n",
      "Train: [400/417 (95%)]\tLoss: 0.162593\n",
      "Epoch: 14/20. Train set: Average loss: 0.1644\n",
      "Epoch: 14/20. Validation set: Average loss: 0.0000\n",
      "Train: [0/417 (0%)]\tLoss: 0.000000\n",
      "Train: [400/417 (95%)]\tLoss: 0.124411\n",
      "Epoch: 15/20. Train set: Average loss: 0.1278\n",
      "Epoch: 15/20. Validation set: Average loss: 0.0000\n",
      "Train: [0/417 (0%)]\tLoss: 0.000000\n",
      "Train: [400/417 (95%)]\tLoss: 0.185765\n",
      "Epoch: 16/20. Train set: Average loss: 0.1862\n",
      "Epoch: 16/20. Validation set: Average loss: 0.0224\n",
      "Train: [0/417 (0%)]\tLoss: 0.000000\n",
      "Train: [400/417 (95%)]\tLoss: 0.133032\n",
      "Epoch: 17/20. Train set: Average loss: 0.1460\n",
      "Epoch: 17/20. Validation set: Average loss: 0.0000\n",
      "Train: [0/417 (0%)]\tLoss: 0.000000\n",
      "Train: [400/417 (95%)]\tLoss: 0.148364\n",
      "Epoch: 18/20. Train set: Average loss: 0.1621\n",
      "Epoch: 18/20. Validation set: Average loss: 0.0500\n",
      "Train: [0/417 (0%)]\tLoss: 0.000000\n",
      "Train: [400/417 (95%)]\tLoss: 0.078190\n",
      "Epoch: 19/20. Train set: Average loss: 0.0837\n",
      "Epoch: 19/20. Validation set: Average loss: 0.0000\n",
      "Train: [0/417 (0%)]\tLoss: 0.000000\n",
      "Train: [400/417 (95%)]\tLoss: 0.101079\n",
      "Epoch: 20/20. Train set: Average loss: 0.1057\n",
      "Epoch: 20/20. Validation set: Average loss: 0.0000\n"
     ]
    }
   ],
   "source": [
    "fit(triplet_train_loader, triplet_test_loader, model, loss_fn, optimizer, scheduler, n_epochs, cuda, log_interval)"
   ]
  },
  {
   "cell_type": "code",
   "execution_count": 58,
   "metadata": {},
   "outputs": [],
   "source": [
    "train_loader = torch.utils.data.DataLoader(train_dataset, batch_size = 4, shuffle = True, **kwargs)\n",
    "test_loader = torch.utils.data.DataLoader(test_dataset, batch_size = 4, shuffle = True, **kwargs)"
   ]
  },
  {
   "cell_type": "code",
   "execution_count": 59,
   "metadata": {},
   "outputs": [
    {
     "data": {
      "image/png": "[encoded data removed]",
      "text/plain": [
       "<Figure size 1000x1000 with 1 Axes>"
      ]
     },
     "metadata": {},
     "output_type": "display_data"
    },
    {
     "data": {
      "image/png": "[encoded data removed]",
      "text/plain": [
       "<Figure size 1000x1000 with 1 Axes>"
      ]
     },
     "metadata": {},
     "output_type": "display_data"
    }
   ],
   "source": [
    "train_embeddings_tl, train_labels_tl = extract_embeddings(train_loader, model)\n",
    "plot_embeddings(train_embeddings_tl, train_labels_tl)\n",
    "val_embeddings_tl, val_labels_tl = extract_embeddings(test_loader, model)\n",
    "plot_embeddings(val_embeddings_tl, val_labels_tl)"
   ]
  },
  {
   "cell_type": "code",
   "execution_count": 26,
   "metadata": {},
   "outputs": [
    {
     "data": {
      "text/plain": [
       "<All keys matched successfully>"
      ]
     },
     "execution_count": 26,
     "metadata": {},
     "output_type": "execute_result"
    }
   ],
   "source": [
    "model.load_state_dict(torch.load(\"./model/mod_19\"))"
   ]
  },
  {
   "cell_type": "code",
   "execution_count": null,
   "metadata": {
    "id": "bCzhFEBGqvVE"
   },
   "outputs": [],
   "source": []
  }
 ],
 "metadata": {
  "accelerator": "GPU",
  "colab": {
   "machine_shape": "hm",
   "provenance": []
  },
  "gpuClass": "standard",
  "kernelspec": {
   "display_name": "Python 3",
   "language": "python",
   "name": "python3"
  },
  "language_info": {
   "codemirror_mode": {
    "name": "ipython",
    "version": 3
   },
   "file_extension": ".py",
   "mimetype": "text/x-python",
   "name": "python",
   "nbconvert_exporter": "python",
   "pygments_lexer": "ipython3",
   "version": "3.8.8"
  },
  "widgets": {
   "application/vnd.jupyter.widget-state+json": {
    "2280d5e7a5dd475e851af169f5a3bd22": {
     "model_module": "@jupyter-widgets/controls",
     "model_module_version": "1.5.0",
     "model_name": "HTMLModel",
     "state": {
      "_dom_classes": [],
      "_model_module": "@jupyter-widgets/controls",
      "_model_module_version": "1.5.0",
      "_model_name": "HTMLModel",
      "_view_count": null,
      "_view_module": "@jupyter-widgets/controls",
      "_view_module_version": "1.5.0",
      "_view_name": "HTMLView",
      "description": "",
      "description_tooltip": null,
      "layout": "IPY_MODEL_eaecb8c19f954b17bddb9ba224285694",
      "placeholder": "​",
      "style": "IPY_MODEL_fc4ae7e557ba4d8d95c6e1a0f155e7fc",
      "value": "100%"
     }
    },
    "318ddb04114f47d49e7881dda69afb09": {
     "model_module": "@jupyter-widgets/controls",
     "model_module_version": "1.5.0",
     "model_name": "DescriptionStyleModel",
     "state": {
      "_model_module": "@jupyter-widgets/controls",
      "_model_module_version": "1.5.0",
      "_model_name": "DescriptionStyleModel",
      "_view_count": null,
      "_view_module": "@jupyter-widgets/base",
      "_view_module_version": "1.2.0",
      "_view_name": "StyleView",
      "description_width": ""
     }
    },
    "4eb0f392ecbc43a99f73b01c53f5a4f8": {
     "model_module": "@jupyter-widgets/controls",
     "model_module_version": "1.5.0",
     "model_name": "ProgressStyleModel",
     "state": {
      "_model_module": "@jupyter-widgets/controls",
      "_model_module_version": "1.5.0",
      "_model_name": "ProgressStyleModel",
      "_view_count": null,
      "_view_module": "@jupyter-widgets/base",
      "_view_module_version": "1.2.0",
      "_view_name": "StyleView",
      "bar_color": null,
      "description_width": ""
     }
    },
    "6c62cafe57514ed3a18d4d6652bac243": {
     "model_module": "@jupyter-widgets/controls",
     "model_module_version": "1.5.0",
     "model_name": "FloatProgressModel",
     "state": {
      "_dom_classes": [],
      "_model_module": "@jupyter-widgets/controls",
      "_model_module_version": "1.5.0",
      "_model_name": "FloatProgressModel",
      "_view_count": null,
      "_view_module": "@jupyter-widgets/controls",
      "_view_module_version": "1.5.0",
      "_view_name": "ProgressView",
      "bar_style": "success",
      "description": "",
      "description_tooltip": null,
      "layout": "IPY_MODEL_ba6ac0c8625845a3ae33ffa847f8b92b",
      "max": 46830571,
      "min": 0,
      "orientation": "horizontal",
      "style": "IPY_MODEL_4eb0f392ecbc43a99f73b01c53f5a4f8",
      "value": 46830571
     }
    },
    "6db1bfc310d347a989143349eaccd8db": {
     "model_module": "@jupyter-widgets/base",
     "model_module_version": "1.2.0",
     "model_name": "LayoutModel",
     "state": {
      "_model_module": "@jupyter-widgets/base",
      "_model_module_version": "1.2.0",
      "_model_name": "LayoutModel",
      "_view_count": null,
      "_view_module": "@jupyter-widgets/base",
      "_view_module_version": "1.2.0",
      "_view_name": "LayoutView",
      "align_content": null,
      "align_items": null,
      "align_self": null,
      "border": null,
      "bottom": null,
      "display": null,
      "flex": null,
      "flex_flow": null,
      "grid_area": null,
      "grid_auto_columns": null,
      "grid_auto_flow": null,
      "grid_auto_rows": null,
      "grid_column": null,
      "grid_gap": null,
      "grid_row": null,
      "grid_template_areas": null,
      "grid_template_columns": null,
      "grid_template_rows": null,
      "height": null,
      "justify_content": null,
      "justify_items": null,
      "left": null,
      "margin": null,
      "max_height": null,
      "max_width": null,
      "min_height": null,
      "min_width": null,
      "object_fit": null,
      "object_position": null,
      "order": null,
      "overflow": null,
      "overflow_x": null,
      "overflow_y": null,
      "padding": null,
      "right": null,
      "top": null,
      "visibility": null,
      "width": null
     }
    },
    "a1627dbbb5574de79be7684b3ce82fe2": {
     "model_module": "@jupyter-widgets/controls",
     "model_module_version": "1.5.0",
     "model_name": "HTMLModel",
     "state": {
      "_dom_classes": [],
      "_model_module": "@jupyter-widgets/controls",
      "_model_module_version": "1.5.0",
      "_model_name": "HTMLModel",
      "_view_count": null,
      "_view_module": "@jupyter-widgets/controls",
      "_view_module_version": "1.5.0",
      "_view_name": "HTMLView",
      "description": "",
      "description_tooltip": null,
      "layout": "IPY_MODEL_6db1bfc310d347a989143349eaccd8db",
      "placeholder": "​",
      "style": "IPY_MODEL_318ddb04114f47d49e7881dda69afb09",
      "value": " 44.7M/44.7M [00:00&lt;00:00, 124MB/s]"
     }
    },
    "ba6ac0c8625845a3ae33ffa847f8b92b": {
     "model_module": "@jupyter-widgets/base",
     "model_module_version": "1.2.0",
     "model_name": "LayoutModel",
     "state": {
      "_model_module": "@jupyter-widgets/base",
      "_model_module_version": "1.2.0",
      "_model_name": "LayoutModel",
      "_view_count": null,
      "_view_module": "@jupyter-widgets/base",
      "_view_module_version": "1.2.0",
      "_view_name": "LayoutView",
      "align_content": null,
      "align_items": null,
      "align_self": null,
      "border": null,
      "bottom": null,
      "display": null,
      "flex": null,
      "flex_flow": null,
      "grid_area": null,
      "grid_auto_columns": null,
      "grid_auto_flow": null,
      "grid_auto_rows": null,
      "grid_column": null,
      "grid_gap": null,
      "grid_row": null,
      "grid_template_areas": null,
      "grid_template_columns": null,
      "grid_template_rows": null,
      "height": null,
      "justify_content": null,
      "justify_items": null,
      "left": null,
      "margin": null,
      "max_height": null,
      "max_width": null,
      "min_height": null,
      "min_width": null,
      "object_fit": null,
      "object_position": null,
      "order": null,
      "overflow": null,
      "overflow_x": null,
      "overflow_y": null,
      "padding": null,
      "right": null,
      "top": null,
      "visibility": null,
      "width": null
     }
    },
    "d0320a61573e41ecb18f6293940995c9": {
     "model_module": "@jupyter-widgets/base",
     "model_module_version": "1.2.0",
     "model_name": "LayoutModel",
     "state": {
      "_model_module": "@jupyter-widgets/base",
      "_model_module_version": "1.2.0",
      "_model_name": "LayoutModel",
      "_view_count": null,
      "_view_module": "@jupyter-widgets/base",
      "_view_module_version": "1.2.0",
      "_view_name": "LayoutView",
      "align_content": null,
      "align_items": null,
      "align_self": null,
      "border": null,
      "bottom": null,
      "display": null,
      "flex": null,
      "flex_flow": null,
      "grid_area": null,
      "grid_auto_columns": null,
      "grid_auto_flow": null,
      "grid_auto_rows": null,
      "grid_column": null,
      "grid_gap": null,
      "grid_row": null,
      "grid_template_areas": null,
      "grid_template_columns": null,
      "grid_template_rows": null,
      "height": null,
      "justify_content": null,
      "justify_items": null,
      "left": null,
      "margin": null,
      "max_height": null,
      "max_width": null,
      "min_height": null,
      "min_width": null,
      "object_fit": null,
      "object_position": null,
      "order": null,
      "overflow": null,
      "overflow_x": null,
      "overflow_y": null,
      "padding": null,
      "right": null,
      "top": null,
      "visibility": null,
      "width": null
     }
    },
    "e3fc45ff3f084c1c8860e8a811621b35": {
     "model_module": "@jupyter-widgets/controls",
     "model_module_version": "1.5.0",
     "model_name": "HBoxModel",
     "state": {
      "_dom_classes": [],
      "_model_module": "@jupyter-widgets/controls",
      "_model_module_version": "1.5.0",
      "_model_name": "HBoxModel",
      "_view_count": null,
      "_view_module": "@jupyter-widgets/controls",
      "_view_module_version": "1.5.0",
      "_view_name": "HBoxView",
      "box_style": "",
      "children": [
       "IPY_MODEL_2280d5e7a5dd475e851af169f5a3bd22",
       "IPY_MODEL_6c62cafe57514ed3a18d4d6652bac243",
       "IPY_MODEL_a1627dbbb5574de79be7684b3ce82fe2"
      ],
      "layout": "IPY_MODEL_d0320a61573e41ecb18f6293940995c9"
     }
    },
    "eaecb8c19f954b17bddb9ba224285694": {
     "model_module": "@jupyter-widgets/base",
     "model_module_version": "1.2.0",
     "model_name": "LayoutModel",
     "state": {
      "_model_module": "@jupyter-widgets/base",
      "_model_module_version": "1.2.0",
      "_model_name": "LayoutModel",
      "_view_count": null,
      "_view_module": "@jupyter-widgets/base",
      "_view_module_version": "1.2.0",
      "_view_name": "LayoutView",
      "align_content": null,
      "align_items": null,
      "align_self": null,
      "border": null,
      "bottom": null,
      "display": null,
      "flex": null,
      "flex_flow": null,
      "grid_area": null,
      "grid_auto_columns": null,
      "grid_auto_flow": null,
      "grid_auto_rows": null,
      "grid_column": null,
      "grid_gap": null,
      "grid_row": null,
      "grid_template_areas": null,
      "grid_template_columns": null,
      "grid_template_rows": null,
      "height": null,
      "justify_content": null,
      "justify_items": null,
      "left": null,
      "margin": null,
      "max_height": null,
      "max_width": null,
      "min_height": null,
      "min_width": null,
      "object_fit": null,
      "object_position": null,
      "order": null,
      "overflow": null,
      "overflow_x": null,
      "overflow_y": null,
      "padding": null,
      "right": null,
      "top": null,
      "visibility": null,
      "width": null
     }
    },
    "fc4ae7e557ba4d8d95c6e1a0f155e7fc": {
     "model_module": "@jupyter-widgets/controls",
     "model_module_version": "1.5.0",
     "model_name": "DescriptionStyleModel",
     "state": {
      "_model_module": "@jupyter-widgets/controls",
      "_model_module_version": "1.5.0",
      "_model_name": "DescriptionStyleModel",
      "_view_count": null,
      "_view_module": "@jupyter-widgets/base",
      "_view_module_version": "1.2.0",
      "_view_name": "StyleView",
      "description_width": ""
     }
    }
   }
  }
 },
 "nbformat": 4,
 "nbformat_minor": 1
}
